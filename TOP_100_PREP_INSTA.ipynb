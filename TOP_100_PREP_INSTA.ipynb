{
  "nbformat": 4,
  "nbformat_minor": 0,
  "metadata": {
    "colab": {
      "provenance": [],
      "authorship_tag": "ABX9TyPAtkSgxxjVQegQDGh1bHcs",
      "include_colab_link": true
    },
    "kernelspec": {
      "name": "python3",
      "display_name": "Python 3"
    },
    "language_info": {
      "name": "python"
    }
  },
  "cells": [
    {
      "cell_type": "markdown",
      "metadata": {
        "id": "view-in-github",
        "colab_type": "text"
      },
      "source": [
        "<a href=\"https://colab.research.google.com/github/maheesukanya/PYTHON-CODING/blob/main/TOP_100_PREP_INSTA.ipynb\" target=\"_parent\"><img src=\"https://colab.research.google.com/assets/colab-badge.svg\" alt=\"Open In Colab\"/></a>"
      ]
    },
    {
      "cell_type": "code",
      "execution_count": null,
      "metadata": {
        "colab": {
          "base_uri": "https://localhost:8080/"
        },
        "id": "nKYM4ePehrN8",
        "outputId": "fb72f7c6-e211-4b57-8fb2-4b73dd9e076f"
      },
      "outputs": [
        {
          "output_type": "stream",
          "name": "stdout",
          "text": [
            "-7\n",
            "negative\n"
          ]
        }
      ],
      "source": [
        "#positive or not\n",
        "n=int(input())\n",
        "if n>0:\n",
        "  print(\"positive\")\n",
        "elif n<0:\n",
        "  print(\"negative\")\n",
        "else:\n",
        "  print(\"zero\")"
      ]
    },
    {
      "cell_type": "code",
      "source": [
        "#prime number\n",
        "\"\"\"n=int(input())\n",
        "count=0\n",
        "for i in range(1,n+1):\n",
        "  if n%i==0:\n",
        "    count+=1\n",
        "if count==2:\n",
        "  print(\"prime\")\n",
        "else:\n",
        "  print(\"not prime\")\"\"\"\n",
        "\n",
        "\n",
        "num = 15\n",
        "a = 0\n",
        "for i in range(2,num):\n",
        "  if num%i==0:\n",
        "    a = 1\n",
        "    break\n",
        "if a == 1:\n",
        "  print('Not Prime')\n",
        "else:\n",
        "  print(\"Prime\")\n",
        "\n"
      ],
      "metadata": {
        "colab": {
          "base_uri": "https://localhost:8080/"
        },
        "id": "o1W4a2nqiBXA",
        "outputId": "003a934a-5348-4580-8785-2bc2f70a3d42"
      },
      "execution_count": null,
      "outputs": [
        {
          "output_type": "stream",
          "name": "stdout",
          "text": [
            "Not Prime\n"
          ]
        }
      ]
    },
    {
      "cell_type": "code",
      "source": [
        "#prime numbers in given range\n",
        "n1=int(input())\n",
        "n2=int(input())\n",
        "for i in range(n1,n2+1):\n",
        "  if i>1:\n",
        "    for j in range(2,i): # for j in range(2, int(num**0.5) + 1):\n",
        "      if i%j==0:\n",
        "        break\n",
        "    else:\n",
        "        print(i,end=\",\")"
      ],
      "metadata": {
        "colab": {
          "base_uri": "https://localhost:8080/"
        },
        "id": "ol448XXxs-zw",
        "outputId": "a28a535b-68cd-453d-affe-87e3e88e2d02"
      },
      "execution_count": null,
      "outputs": [
        {
          "output_type": "stream",
          "name": "stdout",
          "text": [
            "2\n",
            "50\n",
            "2,3,5,7,11,13,17,19,23,29,31,37,41,43,47,"
          ]
        }
      ]
    },
    {
      "cell_type": "code",
      "source": [
        "#sum of the digits\n",
        "n=int(input())\n",
        "sum=0\n",
        "for i in range(n):\n",
        "  r=n%10\n",
        "  sum=sum+r\n",
        "  n=n//10\n",
        "print(sum)\n"
      ],
      "metadata": {
        "colab": {
          "base_uri": "https://localhost:8080/"
        },
        "id": "qi0FcfjJbV6o",
        "outputId": "ea85a232-2bf8-474b-ab90-75196eb0cd96"
      },
      "execution_count": null,
      "outputs": [
        {
          "output_type": "stream",
          "name": "stdout",
          "text": [
            "112233\n",
            "12\n"
          ]
        }
      ]
    },
    {
      "cell_type": "code",
      "source": [
        "num = input(\"Enter Number: \")\n",
        "sum = 0\n",
        "\n",
        "for i in num:\n",
        "    sum = sum + int(i)\n",
        "\n",
        "print(sum)"
      ],
      "metadata": {
        "colab": {
          "base_uri": "https://localhost:8080/"
        },
        "id": "4nefIwZVc27H",
        "outputId": "2dac37a7-4d7d-411a-a64a-74ec01fd6962"
      },
      "execution_count": null,
      "outputs": [
        {
          "output_type": "stream",
          "name": "stdout",
          "text": [
            "Enter Number: 123\n",
            "6\n"
          ]
        }
      ]
    },
    {
      "cell_type": "code",
      "source": [
        "#AUTOMORPHIC NUMBER\n",
        "n=int(input())\n",
        "a=n**2\n",
        "if a%10==n:\n",
        "  print(\"automorphic number\")\n",
        "else:\n",
        "  print(\"not automorphic number\")"
      ],
      "metadata": {
        "id": "4si_Mn-SelvO",
        "colab": {
          "base_uri": "https://localhost:8080/"
        },
        "outputId": "92fab789-ca07-4ce8-8721-29e361259c62"
      },
      "execution_count": null,
      "outputs": [
        {
          "output_type": "stream",
          "name": "stdout",
          "text": [
            "15\n",
            "not automorphic number\n"
          ]
        }
      ]
    },
    {
      "cell_type": "code",
      "source": [
        "#abundant number\n",
        "n=int(input())\n",
        "sum=0\n",
        "for i in range(1,n):\n",
        "  if(n%i==0):\n",
        "    sum=sum+i\n",
        "if(sum>n):\n",
        "   print(\"abundant number\")\n",
        "else:\n",
        "  print(\"not abundant number\")"
      ],
      "metadata": {
        "colab": {
          "base_uri": "https://localhost:8080/"
        },
        "id": "XtFbvLBfyXyk",
        "outputId": "7a7ab13f-a2a7-40de-90ee-5523a9c7d24b"
      },
      "execution_count": null,
      "outputs": [
        {
          "output_type": "stream",
          "name": "stdout",
          "text": [
            "21\n",
            "not abundant number\n"
          ]
        }
      ]
    },
    {
      "cell_type": "code",
      "source": [
        "n=int(input())\n",
        "sum=0\n",
        "for i in range(1,n):\n",
        "  if(n%i==0):\n",
        "    sum=sum+i\n",
        "if(sum==n):\n",
        "   print(\"perfect number\")\n",
        "else:\n",
        "  print(\"not perfect number\")"
      ],
      "metadata": {
        "id": "hiTxvCXs46op",
        "colab": {
          "base_uri": "https://localhost:8080/"
        },
        "outputId": "0e85cca7-a72a-4263-f395-84dda389ab5f"
      },
      "execution_count": 6,
      "outputs": [
        {
          "output_type": "stream",
          "name": "stdout",
          "text": [
            "28\n",
            "perfect number\n"
          ]
        }
      ]
    },
    {
      "cell_type": "code",
      "source": [
        "n1 = int(input(\"Enter the first number: \"))\n",
        "n2 = int(input(\"Enter the second number: \"))\n",
        "sum1 = 0\n",
        "sum2 = 0\n",
        "for i in range(1, n1):\n",
        "    if n1 % i == 0:\n",
        "        sum1 += i\n",
        "for j in range(1, n2):\n",
        "    if n2 % j == 0:\n",
        "        sum2 += j\n",
        "if sum1 / n1 == sum2 / n2:\n",
        "    print(\"Friendly pair\")\n",
        "else:\n",
        "    print(\"Not a friendly pair\")\n"
      ],
      "metadata": {
        "colab": {
          "base_uri": "https://localhost:8080/"
        },
        "id": "zSV_CHsqAPTR",
        "outputId": "5adc1442-053c-4280-b4c6-9027abd73261"
      },
      "execution_count": 22,
      "outputs": [
        {
          "output_type": "stream",
          "name": "stdout",
          "text": [
            "Enter the first number: 6\n",
            "Enter the second number: 28\n",
            "Friendly pair\n"
          ]
        }
      ]
    },
    {
      "cell_type": "code",
      "source": [
        "import math\n",
        "n=int(input())\n",
        "a=math.sqrt(n)\n",
        "b=a*a\n",
        "if(b==n):\n",
        "  print(\"perfect square\")\n",
        "else:\n",
        "  print(\"not perfect square\")\n"
      ],
      "metadata": {
        "colab": {
          "base_uri": "https://localhost:8080/"
        },
        "id": "UtnZ1tF3A0UG",
        "outputId": "ee0208a4-3486-449d-fb52-f669057dfe21"
      },
      "execution_count": 29,
      "outputs": [
        {
          "output_type": "stream",
          "name": "stdout",
          "text": [
            "50\n",
            "not perfect square\n"
          ]
        }
      ]
    }
  ]
}