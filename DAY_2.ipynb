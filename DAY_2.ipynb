{
  "nbformat": 4,
  "nbformat_minor": 0,
  "metadata": {
    "colab": {
      "provenance": [],
      "authorship_tag": "ABX9TyN2F146GnXftsLqIv8uCYch",
      "include_colab_link": true
    },
    "kernelspec": {
      "name": "python3",
      "display_name": "Python 3"
    },
    "language_info": {
      "name": "python"
    }
  },
  "cells": [
    {
      "cell_type": "markdown",
      "metadata": {
        "id": "view-in-github",
        "colab_type": "text"
      },
      "source": [
        "<a href=\"https://colab.research.google.com/github/maheesukanya/PYTHON-CODING/blob/main/DAY_2.ipynb\" target=\"_parent\"><img src=\"https://colab.research.google.com/assets/colab-badge.svg\" alt=\"Open In Colab\"/></a>"
      ]
    },
    {
      "cell_type": "code",
      "execution_count": null,
      "metadata": {
        "colab": {
          "base_uri": "https://localhost:8080/"
        },
        "id": "phcoNLflWcwq",
        "outputId": "91b67ae9-97d0-49a2-8ce4-c87f5ae1c4ae"
      },
      "outputs": [
        {
          "output_type": "stream",
          "name": "stdout",
          "text": [
            "good-girl-like-you\n",
            "---goodgirllikeyou\n"
          ]
        }
      ],
      "source": [
        "#add hyphen at the front of the string\n",
        "s=input()\n",
        "if s is None:\n",
        "  result= None\n",
        "else:\n",
        "  hyphen=''\n",
        "  other=''\n",
        "  for i in s:\n",
        "    if i=='-':\n",
        "      hyphen+=i\n",
        "    else:\n",
        "      other+=i\n",
        "  result=hyphen+other\n",
        "print(result)\n"
      ]
    },
    {
      "cell_type": "code",
      "source": [
        "#smallest product\n",
        "sum=int(input())\n",
        "arr=list(map(int,input().split()))\n",
        "if len(arr)<2:\n",
        "  result = -1\n",
        "else:\n",
        "  arr.sort()\n",
        "  if (arr[0]+arr[1])<= 9:\n",
        "    result=arr[0]*arr[1]\n",
        "  else:\n",
        "    result=0\n",
        "print(result)\n"
      ],
      "metadata": {
        "colab": {
          "base_uri": "https://localhost:8080/"
        },
        "id": "U89XtAUfZLqn",
        "outputId": "d67eccfd-41b2-4081-831c-a3cb4515e053"
      },
      "execution_count": null,
      "outputs": [
        {
          "output_type": "stream",
          "name": "stdout",
          "text": [
            "9\n",
            "5 2 4 3 9 7 1\n",
            "2\n"
          ]
        }
      ]
    },
    {
      "cell_type": "code",
      "source": [
        "#find all permutations\n",
        "from itertools import permutations\n",
        "s=input()\n",
        "p=permutations(s)\n",
        "for i in p:\n",
        "  print(''.join(i))"
      ],
      "metadata": {
        "colab": {
          "base_uri": "https://localhost:8080/"
        },
        "id": "8mJzKd_XeGng",
        "outputId": "6bad156e-04c2-4152-934a-f5487e037e50"
      },
      "execution_count": null,
      "outputs": [
        {
          "output_type": "stream",
          "name": "stdout",
          "text": [
            "abc\n",
            "abc\n",
            "acb\n",
            "bac\n",
            "bca\n",
            "cab\n",
            "cba\n"
          ]
        }
      ]
    }
  ]
}