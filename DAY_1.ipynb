{
  "nbformat": 4,
  "nbformat_minor": 0,
  "metadata": {
    "colab": {
      "provenance": [],
      "authorship_tag": "ABX9TyM4JXhM7QfwYkcOhQDnsBO+",
      "include_colab_link": true
    },
    "kernelspec": {
      "name": "python3",
      "display_name": "Python 3"
    },
    "language_info": {
      "name": "python"
    }
  },
  "cells": [
    {
      "cell_type": "markdown",
      "metadata": {
        "id": "view-in-github",
        "colab_type": "text"
      },
      "source": [
        "<a href=\"https://colab.research.google.com/github/maheesukanya/PYTHON-CODING/blob/main/DAY_1.ipynb\" target=\"_parent\"><img src=\"https://colab.research.google.com/assets/colab-badge.svg\" alt=\"Open In Colab\"/></a>"
      ]
    },
    {
      "cell_type": "code",
      "execution_count": 24,
      "metadata": {
        "colab": {
          "base_uri": "https://localhost:8080/"
        },
        "id": "bIS5dLvgSfig",
        "outputId": "e992cf62-f2ff-4671-dcd8-9c108f8a8894"
      },
      "outputs": [
        {
          "output_type": "stream",
          "name": "stdout",
          "text": [
            "5 6 7 9 10\n",
            "3 \n",
            "2\n",
            "4\n",
            "4\n"
          ]
        }
      ],
      "source": [
        "#find the index if dividend==arr\n",
        "arr=list(map(int,input().split()))\n",
        "d=int(input())\n",
        "q=int(input())\n",
        "r=int(input())\n",
        "n=len(arr)\n",
        "dividend=d*q+r\n",
        "for i in arr:\n",
        "   if dividend==i:\n",
        "     print(arr.index(i))\n",
        "     break\n",
        "else:\n",
        "   print(-1)\n",
        "\n",
        "\n"
      ]
    },
    {
      "cell_type": "code",
      "source": [
        "#find the count of candies\n",
        "arr=list(map(int,input().split()))\n",
        "money=int(input())\n",
        "free_candies=[]\n",
        "paid_candies=[]\n",
        "for i in arr:\n",
        "  if i%5==0:\n",
        "    free_candies.append(i)\n",
        "  else:\n",
        "    paid_candies.append(i)\n",
        "#paid_candies.sort()\n",
        "count=len(free_candies)\n",
        "for j in paid_candies:\n",
        "  if money>=j:\n",
        "    money=money-j\n",
        "    count+=1\n",
        "  else:\n",
        "    break\n",
        "print(count)\n"
      ],
      "metadata": {
        "colab": {
          "base_uri": "https://localhost:8080/"
        },
        "id": "AFTKhb10Zv5t",
        "outputId": "e4469400-5187-485c-f8dc-40dedb766028"
      },
      "execution_count": 25,
      "outputs": [
        {
          "output_type": "stream",
          "name": "stdout",
          "text": [
            "2 4 15 7 10 9\n",
            "15\n",
            "5\n"
          ]
        }
      ]
    },
    {
      "cell_type": "code",
      "source": [
        "#Lower case count\n",
        "n = input()\n",
        "s = \"\"\n",
        "for i in n:\n",
        "    if i.islower():\n",
        "        s += i\n",
        "count = len(s)\n",
        "result = s + \":\" + str(count)\n",
        "print(result)\n"
      ],
      "metadata": {
        "colab": {
          "base_uri": "https://localhost:8080/"
        },
        "id": "tYTAl-fQeWEd",
        "outputId": "b269a66e-17fc-46dd-9c18-6517e7314a08"
      },
      "execution_count": 2,
      "outputs": [
        {
          "output_type": "stream",
          "name": "stdout",
          "text": [
            "This is A Test STRING with Lower Case\n",
            "hisisestwithowerase:19\n"
          ]
        }
      ]
    }
  ]
}